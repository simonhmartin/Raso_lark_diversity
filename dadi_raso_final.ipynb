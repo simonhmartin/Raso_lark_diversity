{
 "cells": [
  {
   "cell_type": "markdown",
   "metadata": {},
   "source": [
    "# Raso lark demographic analysis using dadi"
   ]
  },
  {
   "cell_type": "code",
   "execution_count": null,
   "metadata": {
    "collapsed": true
   },
   "outputs": [],
   "source": [
    "# Numpy is the numerical library dadi is built upon\n",
    "import numpy as np\n",
    "from numpy import array\n",
    "\n",
    "import pylab\n",
    "\n",
    "import dadi\n",
    "\n",
    "# Imort the models that we have written for this scenario\n",
    "import dadi_models\n",
    "\n",
    "import matplotlib.pyplot as plt"
   ]
  },
  {
   "cell_type": "code",
   "execution_count": null,
   "metadata": {
    "collapsed": true
   },
   "outputs": [],
   "source": [
    "#NOTE there are different optimisaition methods here I use dadi.Inference.optimize_log because dadi.Inference.optimize seems to get stuck more easily.\n",
    "def runOptimisation(func_ex,pts_l,data,params,upper_bound,lower_bound,fixed_params=None,maxiter=10,peturbFold=1):\n",
    "    \n",
    "    if fixed_params is None: fixed_params = [None]*len(params)\n",
    "    \n",
    "    # Perturb our parameter array before optimization.\n",
    "    p0 = dadi.Misc.perturb_params(params, fold=peturbFold, upper_bound=upper_bound, lower_bound=lower_bound)\n",
    "    \n",
    "    popt = dadi.Inference.optimize_log(p0, data, func_ex, pts_l, \n",
    "                                    lower_bound=lower_bound,\n",
    "                                    upper_bound=upper_bound,\n",
    "                                    verbose=len(params),\n",
    "                                    maxiter=maxiter,\n",
    "                                    fixed_params = fixed_params)\n",
    "    \n",
    "    return popt\n",
    "\n",
    "def get_fitted_model(func_ex,pts_l,data,params):\n",
    "    output = {}\n",
    "    model = func_ex(params, data.sample_sizes, pts_l)\n",
    "    output['params'] = params\n",
    "    output['model'] = model\n",
    "    output['theta'] = dadi.Inference.optimal_sfs_scaling(model, data)\n",
    "    output['ll_opt'] = dadi.Inference.ll_multinom(model, data)\n",
    "    \n",
    "    return output\n",
    "\n"
   ]
  },
  {
   "cell_type": "code",
   "execution_count": null,
   "metadata": {
    "collapsed": true
   },
   "outputs": [],
   "source": [
    "#function to convert generic sfs to dadi formatted text file\n",
    "def fsToDadiFormat(arr):\n",
    "    return str(len(arr)) + \"\\n\" + \" \".join([str(i) for i in arr])"
   ]
  },
  {
   "cell_type": "code",
   "execution_count": null,
   "metadata": {
    "collapsed": true
   },
   "outputs": [],
   "source": [
    "def plotSpectrumBar(fs, width = None, col=\"black\"):\n",
    "    fs = np.array(fs)\n",
    "    #if 1D, make 2D array\n",
    "    shape = fs.shape\n",
    "    if len(shape)==1: fs = fs.reshape([1,shape[0]])\n",
    "    x = np.arange(fs.shape[1])\n",
    "    if width is None: width = 1./fs.shape[0]\n",
    "    col = list(col) * fs.shape[0]\n",
    "    for i in range(fs.shape[0]): plt.bar(x + width*i, fs[i,:], width, color = col[i])\n",
    "    plt.xlabel=\"Frequency\"\n",
    "    plt.show()"
   ]
  },
  {
   "cell_type": "code",
   "execution_count": null,
   "metadata": {
    "collapsed": true
   },
   "outputs": [],
   "source": [
    "def fold(arr):\n",
    "    mid = len(arr)/2\n",
    "    firstHalf = arr[:mid]\n",
    "    secondHalf = arr[mid:][::-1]\n",
    "    if len(secondHalf) > mid: firstHalf = np.append(firstHalf, 0)\n",
    "    return firstHalf + secondHalf"
   ]
  },
  {
   "cell_type": "code",
   "execution_count": null,
   "metadata": {
    "collapsed": true
   },
   "outputs": [],
   "source": [
    "def extractSpec1D(spec2D, axis = 0):\n",
    "    specCopy = spec2D.copy()\n",
    "    specCopy[specCopy.mask] = 0.0\n",
    "    return np.apply_along_axis(np.sum,axis,specCopy)"
   ]
  },
  {
   "cell_type": "code",
   "execution_count": null,
   "metadata": {
    "collapsed": true
   },
   "outputs": [],
   "source": [
    "def writeModel(model,fileName):\n",
    "    with open(fileName,\"w\") as m:\n",
    "        for i in model.items():\n",
    "            m.write(i[0] + \"\\n\")\n",
    "            try: m.write(\"\\t\".join([str(j) for j in i[1]]) + \"\\n\\n\")\n",
    "            except: m.write(str(i[1]) + \"\\n\\n\")"
   ]
  },
  {
   "cell_type": "code",
   "execution_count": null,
   "metadata": {
    "collapsed": true
   },
   "outputs": [],
   "source": [
    "%matplotlib inline\n",
    "plt.rcParams['figure.figsize'] = [10,6]"
   ]
  },
  {
   "cell_type": "code",
   "execution_count": null,
   "metadata": {
    "collapsed": true
   },
   "outputs": [],
   "source": [
    "mu = 2.3e-9\n",
    "gen_time_raso = 6.5\n",
    "gen_time_skylark = 1\n",
    "gen_time_average = 3"
   ]
  },
  {
   "cell_type": "markdown",
   "metadata": {},
   "source": [
    "## Getting the sfs\n",
    "\n",
    "These SFSs are gnerated using [realSFS in ANGSD](http://www.popgen.dk/angsd/index.php/SFS_Estimation)\n",
    "\n",
    "20 bootstraps were run. First step is to import these and take the median.\n",
    "These include invariant sites in the first and last category, so the sum is the total number of sites used, which is needed later to scale parameters."
   ]
  },
  {
   "cell_type": "code",
   "execution_count": null,
   "metadata": {
    "collapsed": true
   },
   "outputs": [],
   "source": [
    "file_raso = 'dadi/raso.NRscafs.baq1MQ1Q20GL2.BS20.sfs'\n",
    "file_sky = 'dadi/skylarkNL.NRscafs.baq1MQ1Q20GL2.BS20.sfs'\n",
    "\n",
    "fsArray_raso = np.loadtxt(file_raso)\n",
    "fsArray_sky = np.loadtxt(file_sky)\n",
    "\n",
    "#take the median as the one to use\n",
    "fs_raso = np.median(fsArray_raso, axis = 0)\n",
    "fs_sky = np.median(fsArray_sky, axis = 0)\n",
    "\n",
    "#total number of sites is necessary for calculating scaling parameters\n",
    "L_raso = np.sum(fs_raso)\n",
    "L_sky = np.sum(fs_sky)"
   ]
  },
  {
   "cell_type": "markdown",
   "metadata": {},
   "source": [
    "Easiest way to load SFS in dadi is from a file. So write to a file and reload in dadi."
   ]
  },
  {
   "cell_type": "code",
   "execution_count": null,
   "metadata": {
    "collapsed": true
   },
   "outputs": [],
   "source": [
    "with open(file_raso.rstrip(\".sfs\") + \".dadi.sfs\", \"w\") as ff: ff.write(fsToDadiFormat(fs_raso))\n",
    "with open(file_sky.rstrip(\".sfs\") + \".dadi.sfs\", \"w\") as ff: ff.write(fsToDadiFormat(fs_sky))"
   ]
  },
  {
   "cell_type": "code",
   "execution_count": null,
   "metadata": {
    "collapsed": true
   },
   "outputs": [],
   "source": [
    "#load sfs as dadi object\n",
    "data_raso = dadi.Spectrum.from_file(file_raso.rstrip(\".sfs\") + \".dadi.sfs\")\n",
    "data_sky = dadi.Spectrum.from_file(file_sky.rstrip(\".sfs\") + \".dadi.sfs\")\n"
   ]
  },
  {
   "cell_type": "code",
   "execution_count": null,
   "metadata": {},
   "outputs": [],
   "source": [
    "data_raso.sample_sizes"
   ]
  },
  {
   "cell_type": "code",
   "execution_count": null,
   "metadata": {},
   "outputs": [],
   "source": [
    "data_sky.sample_sizes"
   ]
  },
  {
   "cell_type": "markdown",
   "metadata": {},
   "source": [
    "SFS is unfolded, but polarised with referecne, so it must be folded."
   ]
  },
  {
   "cell_type": "code",
   "execution_count": null,
   "metadata": {
    "collapsed": true
   },
   "outputs": [],
   "source": [
    "data_raso = data_raso.fold()\n",
    "data_sky = data_sky.fold()"
   ]
  },
  {
   "cell_type": "markdown",
   "metadata": {},
   "source": [
    "Plot sfs for each population"
   ]
  },
  {
   "cell_type": "code",
   "execution_count": null,
   "metadata": {},
   "outputs": [],
   "source": [
    "plt.rcParams['figure.figsize'] = [10,12]\n",
    "plt.subplot(2,1,1)\n",
    "plotSpectrumBar(data_raso[~data_raso.mask], width=0.8, col = [\"black\"])\n",
    "plt.subplot(2,1,2)\n",
    "plotSpectrumBar(data_sky[~data_sky.mask], width=0.8, col = [\"black\"])"
   ]
  },
  {
   "cell_type": "markdown",
   "metadata": {},
   "source": [
    "### Nucleotide diversity ($\\pi$) and Tajima's D###\n",
    "We can estimate ${\\pi}$ and tajima's D from the SFS"
   ]
  },
  {
   "cell_type": "code",
   "execution_count": null,
   "metadata": {},
   "outputs": [],
   "source": [
    "print \"pi Raso:\", round(data_raso.pi()/L_raso,4)\n",
    "print \"pi Skylark:\", round(data_sky.pi()/L_sky,4)\n",
    "\n",
    "print \"Tajima's D Raso:\", data_raso.Tajima_D()\n",
    "print \"Tajima's D Skylark:\", data_sky.Tajima_D()\n"
   ]
  },
  {
   "cell_type": "markdown",
   "metadata": {},
   "source": [
    "## Single Population Models\n",
    "The model used allows up to two changes in *Ne*. For constant and single change models, some of the parameters are fixed."
   ]
  },
  {
   "cell_type": "code",
   "execution_count": null,
   "metadata": {
    "collapsed": true
   },
   "outputs": [],
   "source": [
    "# These are the grid point settings will use for extrapolation.\n",
    "pts_l = [50,60,70]"
   ]
  },
  {
   "cell_type": "code",
   "execution_count": null,
   "metadata": {
    "collapsed": true
   },
   "outputs": [],
   "source": [
    "#model function\n",
    "func = dadi_models.onePop_twoChange\n",
    "func_ex = dadi.Numerics.make_extrap_func(func)\n",
    "#func_ex = dadi.Numerics.make_extrap_log_func(func)\n",
    "\n",
    "N1 = 1\n",
    "N2 = 1\n",
    "T1 = 1\n",
    "T2 = 1\n",
    "params = array([N1, N2, T1, T2])\n",
    "upper_bound = [100, 100, 5, 5]\n",
    "lower_bound = [1e-5, 1e-5,1e-5,1e-5]"
   ]
  },
  {
   "cell_type": "markdown",
   "metadata": {},
   "source": [
    "## Constant population size"
   ]
  },
  {
   "cell_type": "code",
   "execution_count": null,
   "metadata": {
    "collapsed": true
   },
   "outputs": [],
   "source": [
    "constant_raso = get_fitted_model(func_ex,pts_l,data_raso,params=[1,1,1,1])\n",
    "constant_sky = get_fitted_model(func_ex,pts_l,data_sky,params=[1,1,1,1])\n"
   ]
  },
  {
   "cell_type": "code",
   "execution_count": null,
   "metadata": {},
   "outputs": [],
   "source": [
    "Nanc = constant_raso[\"theta\"] / (4 * mu * L_raso)\n",
    "print \"Likelihood:\", constant_raso[\"ll_opt\"]\n",
    "print \"N:\", Nanc\n",
    "model_folded = constant_raso[\"model\"].fold()\n",
    "plt.rcParams['figure.figsize'] = [8,6]\n",
    "\n",
    "fig = pylab.figure(1)\n",
    "fig.clear()\n",
    "plotSpectrumBar([data_raso[~data_raso.mask],model_folded[~model_folded.mask]*constant_raso[\"theta\"]], width=0.4, col = [\"black\",\"red\"])\n",
    "fig.savefig(\"dadi/constant.pdf\", format=\"pdf\", figsize=(3,2.5))\n",
    "writeModel(constant_raso, \"dadi/fitted_constant_raso.txt\")"
   ]
  },
  {
   "cell_type": "code",
   "execution_count": null,
   "metadata": {
    "scrolled": false
   },
   "outputs": [],
   "source": [
    "Nanc = constant_sky[\"theta\"] / (4 * mu * L_sky)\n",
    "print \"Likelihood:\", constant_sky[\"ll_opt\"]\n",
    "print \"N:\", Nanc\n",
    "model_folded = constant_sky[\"model\"].fold()\n",
    "plt.rcParams['figure.figsize'] = [8,6]\n",
    "plotSpectrumBar([data_sky[~data_sky.mask],model_folded[~model_folded.mask]*constant_sky[\"theta\"]], width=0.4, col = [\"black\",\"red\"])"
   ]
  },
  {
   "cell_type": "markdown",
   "metadata": {},
   "source": [
    "## Single change in population size\n",
    "There is a constant ancestral population (*N<sub>anc</sub>*), and the population changes to size *N<sub>1</sub>* *T<sub>1</sub>* years ago (times are estimated in generations and converted to years by multiplying by average generation time). "
   ]
  },
  {
   "cell_type": "code",
   "execution_count": null,
   "metadata": {},
   "outputs": [],
   "source": [
    "popt_oneChange_raso_all = [runOptimisation(func_ex,pts_l,data_raso,params,upper_bound,lower_bound, fixed_params=[1,None,1,None]) for i in range(10)]\n",
    "popt_oneChange_sky_all = [runOptimisation(func_ex,pts_l,data_sky,params,upper_bound,lower_bound, fixed_params=[1,None,1,None]) for i in range(10)]\n",
    "\n",
    "oneChange_raso_all = [get_fitted_model(func_ex,pts_l,data_raso,params=p) for p in popt_oneChange_raso_all]\n",
    "oneChange_sky_all = [get_fitted_model(func_ex,pts_l,data_sky,params=p) for p in popt_oneChange_sky_all]\n",
    "\n",
    "ll_opt_oneChange_raso = [result[\"ll_opt\"] for result in oneChange_raso_all]\n",
    "ll_opt_oneChange_sky = [result[\"ll_opt\"] for result in oneChange_sky_all]\n",
    "\n",
    "oneChange_raso = oneChange_raso_all[ll_opt_oneChange_raso.index(max(ll_opt_oneChange_raso))]\n",
    "oneChange_sky = oneChange_sky_all[ll_opt_oneChange_sky.index(max(ll_opt_oneChange_sky))]"
   ]
  },
  {
   "cell_type": "code",
   "execution_count": null,
   "metadata": {},
   "outputs": [],
   "source": [
    "plt.plot(ll_opt_oneChange_raso)\n",
    "plt.show()"
   ]
  },
  {
   "cell_type": "code",
   "execution_count": null,
   "metadata": {},
   "outputs": [],
   "source": [
    "model = oneChange_raso \n",
    "Nanc = model[\"theta\"] / (4 * mu * L_raso)\n",
    "print \"Likelihood:\", model[\"ll_opt\"]\n",
    "print \"Nanc:\", Nanc\n",
    "print \"N1:\", Nanc*model[\"params\"][1]\n",
    "print \"T1:\", model[\"params\"][3] * 2*Nanc * gen_time_raso\n",
    "\n",
    "model_folded = model[\"model\"].fold()\n",
    "model_folded\n",
    "fig = pylab.figure(1)\n",
    "fig.clear()\n",
    "plotSpectrumBar([data_raso[~data_raso.mask],model_folded[~model_folded.mask]*model[\"theta\"]], width=0.4, col = [\"black\",\"red\"])\n",
    "fig.savefig(\"dadi/one_change.pdf\", format=\"pdf\", figsize=(3,2.5))\n",
    "writeModel(oneChange_raso, \"dadi/fitted_oneChange_raso.txt\")"
   ]
  },
  {
   "cell_type": "code",
   "execution_count": null,
   "metadata": {},
   "outputs": [],
   "source": [
    "Nanc = oneChange_sky[\"theta\"] / (4 * mu * L_sky)\n",
    "print \"Likelihood:\", oneChange_sky[\"ll_opt\"]\n",
    "print \"Nanc:\", Nanc\n",
    "print \"N1:\", Nanc*oneChange_sky[\"params\"][1]\n",
    "print \"T1:\", oneChange_sky[\"params\"][1] * 2*Nanc * gen_time_skylark\n",
    "\n",
    "model_folded = oneChange_sky[\"model\"].fold()\n",
    "plotSpectrumBar([data_sky[~data_sky.mask],model_folded[~model_folded.mask]*oneChange_sky[\"theta\"]], width=0.4, col = [\"black\",\"red\"])\n"
   ]
  },
  {
   "cell_type": "markdown",
   "metadata": {},
   "source": [
    "## Two changes in population size\n",
    "There is a constant ancestral population (*N<sub>anc</sub>*), and the population changes to size *N<sub>1</sub>*, which it maintains for *T<sub>1</sub>* years, and then changes to *N<sub>2</sub>*, which is maintained for *T<sub>2</sub>* years, until the present (times are estimated in generations and converted to years by multiplying by average generation time). "
   ]
  },
  {
   "cell_type": "code",
   "execution_count": null,
   "metadata": {
    "collapsed": true
   },
   "outputs": [],
   "source": [
    "#model function\n",
    "func = dadi_models.onePop_twoChange\n",
    "func_ex = dadi.Numerics.make_extrap_func(func)\n",
    "#func_ex = dadi.Numerics.make_extrap_log_func(func)\n",
    "\n",
    "N1 = .5\n",
    "N2 = 1.\n",
    "T1 = .5\n",
    "T2 = .5\n",
    "params = array([N1, N2, T1, T2])\n",
    "upper_bound = [10, 10, 2, 2]\n",
    "lower_bound = [1e-5, 1e-5,1e-5,1e-5]"
   ]
  },
  {
   "cell_type": "code",
   "execution_count": null,
   "metadata": {
    "scrolled": true
   },
   "outputs": [],
   "source": [
    "popt_twoChange_raso_all = [runOptimisation(func_ex,pts_l,data_raso,params,upper_bound,lower_bound, fixed_params=[None,None,None,None]) for i in range(50)]\n",
    "popt_twoChange_sky_all = [runOptimisation(func_ex,pts_l,data_sky,params,upper_bound,lower_bound, fixed_params=[None,None,None,None]) for i in range(50)]\n",
    "\n",
    "twoChange_raso_all = [get_fitted_model(func_ex,pts_l,data_raso,params=p) for p in popt_twoChange_raso_all]\n",
    "twoChange_sky_all = [get_fitted_model(func_ex,pts_l,data_sky,params=p) for p in popt_twoChange_sky_all]\n",
    "\n",
    "ll_opt_twoChange_raso = [result[\"ll_opt\"] for result in twoChange_raso_all]\n",
    "ll_opt_twoChange_sky = [result[\"ll_opt\"] for result in twoChange_sky_all]\n",
    "\n",
    "twoChange_raso = twoChange_raso_all[ll_opt_twoChange_raso.index(max(ll_opt_twoChange_raso))]\n",
    "twoChange_sky = twoChange_sky_all[ll_opt_twoChange_sky.index(max(ll_opt_twoChange_sky))]"
   ]
  },
  {
   "cell_type": "code",
   "execution_count": null,
   "metadata": {},
   "outputs": [],
   "source": [
    "plt.rcParams['figure.figsize'] = [10,12]\n",
    "plt.subplot(2,1,1)\n",
    "plt.plot(ll_opt_twoChange_raso)\n",
    "plt.subplot(2,1,2)\n",
    "plt.plot(ll_opt_twoChange_sky)"
   ]
  },
  {
   "cell_type": "code",
   "execution_count": null,
   "metadata": {},
   "outputs": [],
   "source": [
    "model = twoChange_raso \n",
    "Nanc = model[\"theta\"] / (4 * mu * L_raso)\n",
    "print \"Likelihood:\", model[\"ll_opt\"]\n",
    "print \"Raw estimates:\", model[\"params\"]\n",
    "print \"Nanc:\", Nanc\n",
    "print \"N1:\", Nanc*model[\"params\"][0]\n",
    "print \"N2:\", Nanc*model[\"params\"][1]\n",
    "print \"T1:\", model[\"params\"][2] * 2*Nanc * gen_time_raso\n",
    "print \"T2:\", model[\"params\"][3] * 2*Nanc * gen_time_raso\n",
    "\n",
    "model_folded = model[\"model\"].fold()\n",
    "model_folded\n",
    "fig = pylab.figure(1)\n",
    "fig.clear()\n",
    "plt.rcParams['figure.figsize'] = [10,6]\n",
    "plotSpectrumBar([data_raso[~data_raso.mask],model_folded[~model_folded.mask]*model[\"theta\"]], width=0.4, col = [\"black\",\"red\"])\n",
    "fig.savefig(\"dadi/two_change.pdf\", format=\"pdf\", figsize=(3,2.5))\n",
    "writeModel(twoChange_raso, \"dadi/fitted_twoChange_raso.txt\")"
   ]
  },
  {
   "cell_type": "code",
   "execution_count": null,
   "metadata": {},
   "outputs": [],
   "source": [
    "Nanc = twoChange_sky[\"theta\"] / (4 * mu * L_sky)\n",
    "print \"Likelihood:\", twoChange_sky[\"ll_opt\"]\n",
    "print \"Nanc:\", Nanc\n",
    "print \"N1:\", Nanc*twoChange_sky[\"params\"][0]\n",
    "print \"N2:\", Nanc*twoChange_sky[\"params\"][1]\n",
    "print \"T1:\", twoChange_sky[\"params\"][2] * 2*Nanc * gen_time_skylark\n",
    "print \"T2:\", twoChange_sky[\"params\"][3] * 2*Nanc * gen_time_skylark\n",
    "\n",
    "model_folded = twoChange_sky[\"model\"].fold()\n",
    "plt.rcParams['figure.figsize'] = [10,6]\n",
    "plotSpectrumBar([data_sky[~data_sky.mask],model_folded[~model_folded.mask]*twoChange_sky[\"theta\"]], width=0.4, col = [\"black\",\"red\"])\n"
   ]
  },
  {
   "cell_type": "markdown",
   "metadata": {},
   "source": [
    "## Three changes in population size\n",
    "There is a constant ancestral population (*N<sub>anc</sub>*), and the population changes to size *N<sub>1</sub>*, which it maintains for *T<sub>1</sub>* years, and then changes to *N<sub>2</sub>*, which is maintained for *T<sub>2</sub>* years, and then changes to *N<sub>3</sub>*, which is maintained for *T<sub>3</sub>* years, until the present (times are estimated in generations and converted to years by multiplying by average generation time). "
   ]
  },
  {
   "cell_type": "code",
   "execution_count": null,
   "metadata": {
    "collapsed": true
   },
   "outputs": [],
   "source": [
    "#model function\n",
    "func = dadi_models.onePop_threeChange\n",
    "func_ex = dadi.Numerics.make_extrap_func(func)\n",
    "#func_ex = dadi.Numerics.make_extrap_log_func(func)\n",
    "\n",
    "N1 = 1.\n",
    "N2 = 1.\n",
    "N3 = .01\n",
    "\n",
    "T1 = .5\n",
    "T2 = .5\n",
    "T3 = .0001\n",
    "params = array([N1, N2, N3, T1, T2, T3])\n",
    "upper_bound = [100, 100, 20, 2, 2, 1]\n",
    "lower_bound = [1e-3, 1e-3, 1e-4, 1e-5, 1e-5, 1e-5]"
   ]
  },
  {
   "cell_type": "code",
   "execution_count": null,
   "metadata": {
    "scrolled": true
   },
   "outputs": [],
   "source": [
    "N3range = np.arange(1e-3,1e-2,5e-4).repeat(50)\n",
    "N3range = np.array([1e-3, 5e-3, 1e-2, 5e-2, 1e-1, 5e-1, 1, 5, 10, 50]).repeat(10)\n",
    "\n",
    "popt_threeChange_raso_all = [runOptimisation(func_ex,pts_l,data_raso,params,upper_bound,lower_bound, maxiter=100,\n",
    "                                             fixed_params=[None,None,N3i,None,None,None]) for N3i in N3range]\n",
    "\n",
    "threeChange_raso_all = [get_fitted_model(func_ex,pts_l,data_raso,params=p) for p in popt_threeChange_raso_all]\n",
    "\n",
    "ll_opt_threeChange_raso = [result[\"ll_opt\"] for result in threeChange_raso_all]\n",
    "\n",
    "threeChange_raso = threeChange_raso_all[ll_opt_threeChange_raso.index(max(ll_opt_threeChange_raso))]\n"
   ]
  },
  {
   "cell_type": "code",
   "execution_count": null,
   "metadata": {
    "scrolled": true
   },
   "outputs": [],
   "source": [
    "plt.rcParams['figure.figsize'] = [10,6]\n",
    "plt.plot(ll_opt_threeChange_raso)\n"
   ]
  },
  {
   "cell_type": "code",
   "execution_count": null,
   "metadata": {},
   "outputs": [],
   "source": [
    "model = threeChange_raso \n",
    "Nanc = model[\"theta\"] / (4 * mu * L_raso)\n",
    "print \"Likelihood:\", model[\"ll_opt\"]\n",
    "print \"Raw estimates:\", model[\"params\"]\n",
    "print \"Nanc:\", Nanc\n",
    "print \"N1:\", Nanc*model[\"params\"][0]\n",
    "print \"N2:\", Nanc*model[\"params\"][1]\n",
    "print \"N3:\", Nanc*model[\"params\"][2]\n",
    "print \"T1:\", model[\"params\"][3] * 2*Nanc * gen_time_raso\n",
    "print \"T2:\", model[\"params\"][4] * 2*Nanc * gen_time_raso\n",
    "print \"T3:\", model[\"params\"][5] * 2*Nanc * gen_time_raso\n",
    "\n",
    "model_folded = model[\"model\"].fold()\n",
    "model_folded\n",
    "fig = pylab.figure(1)\n",
    "fig.clear()\n",
    "plt.rcParams['figure.figsize'] = [10,6]\n",
    "plotSpectrumBar([data_raso[~data_raso.mask],model_folded[~model_folded.mask]*model[\"theta\"]], width=0.4, col = [\"black\",\"red\"])\n",
    "fig.savefig(\"dadi/three_change.pdf\", format=\"pdf\", figsize=(3,2.5))\n",
    "writeModel(threeChange_raso, \"dadi/fitted_threeChange_raso.txt\")"
   ]
  }
 ],
 "metadata": {
  "kernelspec": {
   "display_name": "Python 2",
   "language": "python",
   "name": "python2"
  },
  "language_info": {
   "codemirror_mode": {
    "name": "ipython",
    "version": 2
   },
   "file_extension": ".py",
   "mimetype": "text/x-python",
   "name": "python",
   "nbconvert_exporter": "python",
   "pygments_lexer": "ipython2",
   "version": "2.7.12"
  }
 },
 "nbformat": 4,
 "nbformat_minor": 2
}
